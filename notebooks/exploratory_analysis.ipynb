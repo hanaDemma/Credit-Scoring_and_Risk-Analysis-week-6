{
 "cells": [
  {
   "cell_type": "code",
   "execution_count": 1,
   "metadata": {},
   "outputs": [],
   "source": [
    "import os\n",
    "os.chdir('..')\n",
    "import warnings\n",
    "warnings.filterwarnings('ignore')"
   ]
  },
  {
   "cell_type": "markdown",
   "metadata": {},
   "source": [
    "> ## Exploratory Data Analysis (EDA)"
   ]
  },
  {
   "cell_type": "code",
   "execution_count": 2,
   "metadata": {},
   "outputs": [],
   "source": [
    "import pandas as pd\n",
    "import numpy as np\n",
    "\n",
    "# Data Visualization\n",
    "import matplotlib.pyplot as plt\n",
    "import seaborn as sns\n",
    "plt.style.use('ggplot')\n"
   ]
  },
  {
   "cell_type": "markdown",
   "metadata": {},
   "source": [
    "> ## Overview of the Data"
   ]
  },
  {
   "cell_type": "markdown",
   "metadata": {},
   "source": [
    "> #### To understand the structure of the dataset, including the number of rows, columns, and data types"
   ]
  },
  {
   "cell_type": "markdown",
   "metadata": {},
   "source": [
    "> ##  Data Loading"
   ]
  },
  {
   "cell_type": "code",
   "execution_count": 3,
   "metadata": {},
   "outputs": [],
   "source": [
    "from scripts.data_loader import dataLoading\n",
    "data=dataLoading()"
   ]
  },
  {
   "cell_type": "markdown",
   "metadata": {},
   "source": [
    "> ## Check Loaded Dataset"
   ]
  },
  {
   "cell_type": "code",
   "execution_count": 4,
   "metadata": {},
   "outputs": [
    {
     "data": {
      "text/html": [
       "<div>\n",
       "<style scoped>\n",
       "    .dataframe tbody tr th:only-of-type {\n",
       "        vertical-align: middle;\n",
       "    }\n",
       "\n",
       "    .dataframe tbody tr th {\n",
       "        vertical-align: top;\n",
       "    }\n",
       "\n",
       "    .dataframe thead th {\n",
       "        text-align: right;\n",
       "    }\n",
       "</style>\n",
       "<table border=\"1\" class=\"dataframe\">\n",
       "  <thead>\n",
       "    <tr style=\"text-align: right;\">\n",
       "      <th></th>\n",
       "      <th>TransactionId</th>\n",
       "      <th>BatchId</th>\n",
       "      <th>AccountId</th>\n",
       "      <th>SubscriptionId</th>\n",
       "      <th>CustomerId</th>\n",
       "      <th>CurrencyCode</th>\n",
       "      <th>CountryCode</th>\n",
       "      <th>ProviderId</th>\n",
       "      <th>ProductId</th>\n",
       "      <th>ProductCategory</th>\n",
       "      <th>ChannelId</th>\n",
       "      <th>Amount</th>\n",
       "      <th>Value</th>\n",
       "      <th>TransactionStartTime</th>\n",
       "      <th>PricingStrategy</th>\n",
       "      <th>FraudResult</th>\n",
       "    </tr>\n",
       "  </thead>\n",
       "  <tbody>\n",
       "    <tr>\n",
       "      <th>0</th>\n",
       "      <td>TransactionId_76871</td>\n",
       "      <td>BatchId_36123</td>\n",
       "      <td>AccountId_3957</td>\n",
       "      <td>SubscriptionId_887</td>\n",
       "      <td>CustomerId_4406</td>\n",
       "      <td>UGX</td>\n",
       "      <td>256</td>\n",
       "      <td>ProviderId_6</td>\n",
       "      <td>ProductId_10</td>\n",
       "      <td>airtime</td>\n",
       "      <td>ChannelId_3</td>\n",
       "      <td>1000.0</td>\n",
       "      <td>1000</td>\n",
       "      <td>2018-11-15T02:18:49Z</td>\n",
       "      <td>2</td>\n",
       "      <td>0</td>\n",
       "    </tr>\n",
       "    <tr>\n",
       "      <th>1</th>\n",
       "      <td>TransactionId_73770</td>\n",
       "      <td>BatchId_15642</td>\n",
       "      <td>AccountId_4841</td>\n",
       "      <td>SubscriptionId_3829</td>\n",
       "      <td>CustomerId_4406</td>\n",
       "      <td>UGX</td>\n",
       "      <td>256</td>\n",
       "      <td>ProviderId_4</td>\n",
       "      <td>ProductId_6</td>\n",
       "      <td>financial_services</td>\n",
       "      <td>ChannelId_2</td>\n",
       "      <td>-20.0</td>\n",
       "      <td>20</td>\n",
       "      <td>2018-11-15T02:19:08Z</td>\n",
       "      <td>2</td>\n",
       "      <td>0</td>\n",
       "    </tr>\n",
       "    <tr>\n",
       "      <th>2</th>\n",
       "      <td>TransactionId_26203</td>\n",
       "      <td>BatchId_53941</td>\n",
       "      <td>AccountId_4229</td>\n",
       "      <td>SubscriptionId_222</td>\n",
       "      <td>CustomerId_4683</td>\n",
       "      <td>UGX</td>\n",
       "      <td>256</td>\n",
       "      <td>ProviderId_6</td>\n",
       "      <td>ProductId_1</td>\n",
       "      <td>airtime</td>\n",
       "      <td>ChannelId_3</td>\n",
       "      <td>500.0</td>\n",
       "      <td>500</td>\n",
       "      <td>2018-11-15T02:44:21Z</td>\n",
       "      <td>2</td>\n",
       "      <td>0</td>\n",
       "    </tr>\n",
       "    <tr>\n",
       "      <th>3</th>\n",
       "      <td>TransactionId_380</td>\n",
       "      <td>BatchId_102363</td>\n",
       "      <td>AccountId_648</td>\n",
       "      <td>SubscriptionId_2185</td>\n",
       "      <td>CustomerId_988</td>\n",
       "      <td>UGX</td>\n",
       "      <td>256</td>\n",
       "      <td>ProviderId_1</td>\n",
       "      <td>ProductId_21</td>\n",
       "      <td>utility_bill</td>\n",
       "      <td>ChannelId_3</td>\n",
       "      <td>20000.0</td>\n",
       "      <td>21800</td>\n",
       "      <td>2018-11-15T03:32:55Z</td>\n",
       "      <td>2</td>\n",
       "      <td>0</td>\n",
       "    </tr>\n",
       "    <tr>\n",
       "      <th>4</th>\n",
       "      <td>TransactionId_28195</td>\n",
       "      <td>BatchId_38780</td>\n",
       "      <td>AccountId_4841</td>\n",
       "      <td>SubscriptionId_3829</td>\n",
       "      <td>CustomerId_988</td>\n",
       "      <td>UGX</td>\n",
       "      <td>256</td>\n",
       "      <td>ProviderId_4</td>\n",
       "      <td>ProductId_6</td>\n",
       "      <td>financial_services</td>\n",
       "      <td>ChannelId_2</td>\n",
       "      <td>-644.0</td>\n",
       "      <td>644</td>\n",
       "      <td>2018-11-15T03:34:21Z</td>\n",
       "      <td>2</td>\n",
       "      <td>0</td>\n",
       "    </tr>\n",
       "    <tr>\n",
       "      <th>5</th>\n",
       "      <td>TransactionId_23223</td>\n",
       "      <td>BatchId_25954</td>\n",
       "      <td>AccountId_1078</td>\n",
       "      <td>SubscriptionId_4238</td>\n",
       "      <td>CustomerId_1432</td>\n",
       "      <td>UGX</td>\n",
       "      <td>256</td>\n",
       "      <td>ProviderId_6</td>\n",
       "      <td>ProductId_3</td>\n",
       "      <td>airtime</td>\n",
       "      <td>ChannelId_3</td>\n",
       "      <td>2000.0</td>\n",
       "      <td>2000</td>\n",
       "      <td>2018-11-15T03:35:10Z</td>\n",
       "      <td>2</td>\n",
       "      <td>0</td>\n",
       "    </tr>\n",
       "    <tr>\n",
       "      <th>6</th>\n",
       "      <td>TransactionId_118063</td>\n",
       "      <td>BatchId_118460</td>\n",
       "      <td>AccountId_2442</td>\n",
       "      <td>SubscriptionId_1980</td>\n",
       "      <td>CustomerId_2858</td>\n",
       "      <td>UGX</td>\n",
       "      <td>256</td>\n",
       "      <td>ProviderId_5</td>\n",
       "      <td>ProductId_3</td>\n",
       "      <td>airtime</td>\n",
       "      <td>ChannelId_3</td>\n",
       "      <td>10000.0</td>\n",
       "      <td>10000</td>\n",
       "      <td>2018-11-15T03:44:31Z</td>\n",
       "      <td>4</td>\n",
       "      <td>0</td>\n",
       "    </tr>\n",
       "    <tr>\n",
       "      <th>7</th>\n",
       "      <td>TransactionId_100640</td>\n",
       "      <td>BatchId_38561</td>\n",
       "      <td>AccountId_4841</td>\n",
       "      <td>SubscriptionId_3829</td>\n",
       "      <td>CustomerId_2858</td>\n",
       "      <td>UGX</td>\n",
       "      <td>256</td>\n",
       "      <td>ProviderId_4</td>\n",
       "      <td>ProductId_6</td>\n",
       "      <td>financial_services</td>\n",
       "      <td>ChannelId_2</td>\n",
       "      <td>-500.0</td>\n",
       "      <td>500</td>\n",
       "      <td>2018-11-15T03:45:13Z</td>\n",
       "      <td>2</td>\n",
       "      <td>0</td>\n",
       "    </tr>\n",
       "    <tr>\n",
       "      <th>8</th>\n",
       "      <td>TransactionId_51905</td>\n",
       "      <td>BatchId_93774</td>\n",
       "      <td>AccountId_272</td>\n",
       "      <td>SubscriptionId_4731</td>\n",
       "      <td>CustomerId_598</td>\n",
       "      <td>UGX</td>\n",
       "      <td>256</td>\n",
       "      <td>ProviderId_6</td>\n",
       "      <td>ProductId_10</td>\n",
       "      <td>airtime</td>\n",
       "      <td>ChannelId_3</td>\n",
       "      <td>500.0</td>\n",
       "      <td>500</td>\n",
       "      <td>2018-11-15T04:14:59Z</td>\n",
       "      <td>2</td>\n",
       "      <td>0</td>\n",
       "    </tr>\n",
       "    <tr>\n",
       "      <th>9</th>\n",
       "      <td>TransactionId_130161</td>\n",
       "      <td>BatchId_82409</td>\n",
       "      <td>AccountId_710</td>\n",
       "      <td>SubscriptionId_920</td>\n",
       "      <td>CustomerId_1053</td>\n",
       "      <td>UGX</td>\n",
       "      <td>256</td>\n",
       "      <td>ProviderId_1</td>\n",
       "      <td>ProductId_15</td>\n",
       "      <td>financial_services</td>\n",
       "      <td>ChannelId_3</td>\n",
       "      <td>600.0</td>\n",
       "      <td>600</td>\n",
       "      <td>2018-11-15T04:31:48Z</td>\n",
       "      <td>2</td>\n",
       "      <td>0</td>\n",
       "    </tr>\n",
       "  </tbody>\n",
       "</table>\n",
       "</div>"
      ],
      "text/plain": [
       "          TransactionId         BatchId       AccountId       SubscriptionId  \\\n",
       "0   TransactionId_76871   BatchId_36123  AccountId_3957   SubscriptionId_887   \n",
       "1   TransactionId_73770   BatchId_15642  AccountId_4841  SubscriptionId_3829   \n",
       "2   TransactionId_26203   BatchId_53941  AccountId_4229   SubscriptionId_222   \n",
       "3     TransactionId_380  BatchId_102363   AccountId_648  SubscriptionId_2185   \n",
       "4   TransactionId_28195   BatchId_38780  AccountId_4841  SubscriptionId_3829   \n",
       "5   TransactionId_23223   BatchId_25954  AccountId_1078  SubscriptionId_4238   \n",
       "6  TransactionId_118063  BatchId_118460  AccountId_2442  SubscriptionId_1980   \n",
       "7  TransactionId_100640   BatchId_38561  AccountId_4841  SubscriptionId_3829   \n",
       "8   TransactionId_51905   BatchId_93774   AccountId_272  SubscriptionId_4731   \n",
       "9  TransactionId_130161   BatchId_82409   AccountId_710   SubscriptionId_920   \n",
       "\n",
       "        CustomerId CurrencyCode  CountryCode    ProviderId     ProductId  \\\n",
       "0  CustomerId_4406          UGX          256  ProviderId_6  ProductId_10   \n",
       "1  CustomerId_4406          UGX          256  ProviderId_4   ProductId_6   \n",
       "2  CustomerId_4683          UGX          256  ProviderId_6   ProductId_1   \n",
       "3   CustomerId_988          UGX          256  ProviderId_1  ProductId_21   \n",
       "4   CustomerId_988          UGX          256  ProviderId_4   ProductId_6   \n",
       "5  CustomerId_1432          UGX          256  ProviderId_6   ProductId_3   \n",
       "6  CustomerId_2858          UGX          256  ProviderId_5   ProductId_3   \n",
       "7  CustomerId_2858          UGX          256  ProviderId_4   ProductId_6   \n",
       "8   CustomerId_598          UGX          256  ProviderId_6  ProductId_10   \n",
       "9  CustomerId_1053          UGX          256  ProviderId_1  ProductId_15   \n",
       "\n",
       "      ProductCategory    ChannelId   Amount  Value  TransactionStartTime  \\\n",
       "0             airtime  ChannelId_3   1000.0   1000  2018-11-15T02:18:49Z   \n",
       "1  financial_services  ChannelId_2    -20.0     20  2018-11-15T02:19:08Z   \n",
       "2             airtime  ChannelId_3    500.0    500  2018-11-15T02:44:21Z   \n",
       "3        utility_bill  ChannelId_3  20000.0  21800  2018-11-15T03:32:55Z   \n",
       "4  financial_services  ChannelId_2   -644.0    644  2018-11-15T03:34:21Z   \n",
       "5             airtime  ChannelId_3   2000.0   2000  2018-11-15T03:35:10Z   \n",
       "6             airtime  ChannelId_3  10000.0  10000  2018-11-15T03:44:31Z   \n",
       "7  financial_services  ChannelId_2   -500.0    500  2018-11-15T03:45:13Z   \n",
       "8             airtime  ChannelId_3    500.0    500  2018-11-15T04:14:59Z   \n",
       "9  financial_services  ChannelId_3    600.0    600  2018-11-15T04:31:48Z   \n",
       "\n",
       "   PricingStrategy  FraudResult  \n",
       "0                2            0  \n",
       "1                2            0  \n",
       "2                2            0  \n",
       "3                2            0  \n",
       "4                2            0  \n",
       "5                2            0  \n",
       "6                4            0  \n",
       "7                2            0  \n",
       "8                2            0  \n",
       "9                2            0  "
      ]
     },
     "execution_count": 4,
     "metadata": {},
     "output_type": "execute_result"
    }
   ],
   "source": [
    "data.head(10)\n"
   ]
  },
  {
   "cell_type": "code",
   "execution_count": 5,
   "metadata": {},
   "outputs": [
    {
     "name": "stdout",
     "output_type": "stream",
     "text": [
      "<class 'pandas.core.frame.DataFrame'>\n",
      "RangeIndex: 95662 entries, 0 to 95661\n",
      "Data columns (total 16 columns):\n",
      " #   Column                Non-Null Count  Dtype  \n",
      "---  ------                --------------  -----  \n",
      " 0   TransactionId         95662 non-null  object \n",
      " 1   BatchId               95662 non-null  object \n",
      " 2   AccountId             95662 non-null  object \n",
      " 3   SubscriptionId        95662 non-null  object \n",
      " 4   CustomerId            95662 non-null  object \n",
      " 5   CurrencyCode          95662 non-null  object \n",
      " 6   CountryCode           95662 non-null  int64  \n",
      " 7   ProviderId            95662 non-null  object \n",
      " 8   ProductId             95662 non-null  object \n",
      " 9   ProductCategory       95662 non-null  object \n",
      " 10  ChannelId             95662 non-null  object \n",
      " 11  Amount                95662 non-null  float64\n",
      " 12  Value                 95662 non-null  int64  \n",
      " 13  TransactionStartTime  95662 non-null  object \n",
      " 14  PricingStrategy       95662 non-null  int64  \n",
      " 15  FraudResult           95662 non-null  int64  \n",
      "dtypes: float64(1), int64(4), object(11)\n",
      "memory usage: 11.7+ MB\n"
     ]
    }
   ],
   "source": [
    "data.info()\n"
   ]
  },
  {
   "cell_type": "markdown",
   "metadata": {},
   "source": [
    "> ## Summary Statistics"
   ]
  },
  {
   "cell_type": "markdown",
   "metadata": {},
   "source": [
    "> #### To understand the central tendency, dispersion, and shape of the dataset’s distribution."
   ]
  },
  {
   "cell_type": "code",
   "execution_count": 6,
   "metadata": {},
   "outputs": [
    {
     "data": {
      "text/html": [
       "<div>\n",
       "<style scoped>\n",
       "    .dataframe tbody tr th:only-of-type {\n",
       "        vertical-align: middle;\n",
       "    }\n",
       "\n",
       "    .dataframe tbody tr th {\n",
       "        vertical-align: top;\n",
       "    }\n",
       "\n",
       "    .dataframe thead th {\n",
       "        text-align: right;\n",
       "    }\n",
       "</style>\n",
       "<table border=\"1\" class=\"dataframe\">\n",
       "  <thead>\n",
       "    <tr style=\"text-align: right;\">\n",
       "      <th></th>\n",
       "      <th>CountryCode</th>\n",
       "      <th>Amount</th>\n",
       "      <th>Value</th>\n",
       "      <th>PricingStrategy</th>\n",
       "      <th>FraudResult</th>\n",
       "    </tr>\n",
       "  </thead>\n",
       "  <tbody>\n",
       "    <tr>\n",
       "      <th>count</th>\n",
       "      <td>95662.0</td>\n",
       "      <td>9.566200e+04</td>\n",
       "      <td>9.566200e+04</td>\n",
       "      <td>95662.000000</td>\n",
       "      <td>95662.000000</td>\n",
       "    </tr>\n",
       "    <tr>\n",
       "      <th>mean</th>\n",
       "      <td>256.0</td>\n",
       "      <td>6.717846e+03</td>\n",
       "      <td>9.900584e+03</td>\n",
       "      <td>2.255974</td>\n",
       "      <td>0.002018</td>\n",
       "    </tr>\n",
       "    <tr>\n",
       "      <th>std</th>\n",
       "      <td>0.0</td>\n",
       "      <td>1.233068e+05</td>\n",
       "      <td>1.231221e+05</td>\n",
       "      <td>0.732924</td>\n",
       "      <td>0.044872</td>\n",
       "    </tr>\n",
       "    <tr>\n",
       "      <th>min</th>\n",
       "      <td>256.0</td>\n",
       "      <td>-1.000000e+06</td>\n",
       "      <td>2.000000e+00</td>\n",
       "      <td>0.000000</td>\n",
       "      <td>0.000000</td>\n",
       "    </tr>\n",
       "    <tr>\n",
       "      <th>25%</th>\n",
       "      <td>256.0</td>\n",
       "      <td>-5.000000e+01</td>\n",
       "      <td>2.750000e+02</td>\n",
       "      <td>2.000000</td>\n",
       "      <td>0.000000</td>\n",
       "    </tr>\n",
       "    <tr>\n",
       "      <th>50%</th>\n",
       "      <td>256.0</td>\n",
       "      <td>1.000000e+03</td>\n",
       "      <td>1.000000e+03</td>\n",
       "      <td>2.000000</td>\n",
       "      <td>0.000000</td>\n",
       "    </tr>\n",
       "    <tr>\n",
       "      <th>75%</th>\n",
       "      <td>256.0</td>\n",
       "      <td>2.800000e+03</td>\n",
       "      <td>5.000000e+03</td>\n",
       "      <td>2.000000</td>\n",
       "      <td>0.000000</td>\n",
       "    </tr>\n",
       "    <tr>\n",
       "      <th>max</th>\n",
       "      <td>256.0</td>\n",
       "      <td>9.880000e+06</td>\n",
       "      <td>9.880000e+06</td>\n",
       "      <td>4.000000</td>\n",
       "      <td>1.000000</td>\n",
       "    </tr>\n",
       "  </tbody>\n",
       "</table>\n",
       "</div>"
      ],
      "text/plain": [
       "       CountryCode        Amount         Value  PricingStrategy   FraudResult\n",
       "count      95662.0  9.566200e+04  9.566200e+04     95662.000000  95662.000000\n",
       "mean         256.0  6.717846e+03  9.900584e+03         2.255974      0.002018\n",
       "std            0.0  1.233068e+05  1.231221e+05         0.732924      0.044872\n",
       "min          256.0 -1.000000e+06  2.000000e+00         0.000000      0.000000\n",
       "25%          256.0 -5.000000e+01  2.750000e+02         2.000000      0.000000\n",
       "50%          256.0  1.000000e+03  1.000000e+03         2.000000      0.000000\n",
       "75%          256.0  2.800000e+03  5.000000e+03         2.000000      0.000000\n",
       "max          256.0  9.880000e+06  9.880000e+06         4.000000      1.000000"
      ]
     },
     "execution_count": 6,
     "metadata": {},
     "output_type": "execute_result"
    }
   ],
   "source": [
    "data.describe()\n"
   ]
  },
  {
   "cell_type": "markdown",
   "metadata": {},
   "source": [
    "> ## Distribution of Numerical Features"
   ]
  },
  {
   "cell_type": "markdown",
   "metadata": {},
   "source": [
    "> #### Visualize the distribution of numerical features to identify patterns, skewness, and potential outliers."
   ]
  },
  {
   "cell_type": "code",
   "execution_count": 7,
   "metadata": {},
   "outputs": [],
   "source": [
    "# Identify numerical features\n",
    "numerical_columns = data.select_dtypes(include=['float64', 'int64']).columns\n"
   ]
  },
  {
   "cell_type": "markdown",
   "metadata": {},
   "source": [
    "> ### Count the value of each columns\n"
   ]
  },
  {
   "cell_type": "code",
   "execution_count": 8,
   "metadata": {},
   "outputs": [
    {
     "name": "stdout",
     "output_type": "stream",
     "text": [
      "Value count of CountryCode\n",
      "256    95662\n",
      "Name: count, dtype: int64\n",
      " And\n",
      "1 Unique Value\n",
      "\n",
      "\n",
      "Value count of PricingStrategy\n",
      "2    79848\n",
      "4    13562\n",
      "1     1867\n",
      "0      385\n",
      "Name: count, dtype: int64\n",
      " And\n",
      "4 Unique Value\n",
      "\n",
      "\n",
      "Value count of FraudResult\n",
      "0    95469\n",
      "1      193\n",
      "Name: count, dtype: int64\n",
      " And\n",
      "2 Unique Value\n",
      "\n",
      "\n"
     ]
    }
   ],
   "source": [
    "for col in numerical_columns:\n",
    "    if col=='Amount' or col=='Value':\n",
    "        continue\n",
    "    else:\n",
    "        print(f'Value count of {data[col].value_counts()}\\n And')\n",
    "        print(f'{data[col].nunique()} Unique Value\\n\\n')"
   ]
  },
  {
   "cell_type": "markdown",
   "metadata": {},
   "source": [
    "> ### Count the value of Amount and Value columns"
   ]
  },
  {
   "cell_type": "code",
   "execution_count": 9,
   "metadata": {},
   "outputs": [
    {
     "name": "stdout",
     "output_type": "stream",
     "text": [
      "Amount\n",
      " 1000.00      17091\n",
      "-50.00         8513\n",
      " 10000.00      8260\n",
      " 2000.00       5489\n",
      " 500.00        5246\n",
      "              ...  \n",
      "-5.98             1\n",
      " 101500.00        1\n",
      " 101350.00        1\n",
      " 9585.00          1\n",
      " 5890.00          1\n",
      "Name: count, Length: 1676, dtype: int64\n"
     ]
    }
   ],
   "source": [
    "print(data['Amount'].value_counts())\n"
   ]
  },
  {
   "cell_type": "code",
   "execution_count": 10,
   "metadata": {},
   "outputs": [
    {
     "name": "stdout",
     "output_type": "stream",
     "text": [
      "Amount\n",
      " 1000.00      17091\n",
      "-50.00         8513\n",
      " 10000.00      8260\n",
      " 2000.00       5489\n",
      " 500.00        5246\n",
      "              ...  \n",
      "-5.98             1\n",
      " 101500.00        1\n",
      " 101350.00        1\n",
      " 9585.00          1\n",
      " 5890.00          1\n",
      "Name: count, Length: 1676, dtype: int64\n"
     ]
    }
   ],
   "source": [
    "print(data['Amount'].value_counts())\n"
   ]
  },
  {
   "cell_type": "markdown",
   "metadata": {},
   "source": [
    "> ### Check the Skewness value of numerical columns"
   ]
  },
  {
   "cell_type": "code",
   "execution_count": 11,
   "metadata": {},
   "outputs": [
    {
     "name": "stdout",
     "output_type": "stream",
     "text": [
      "CountryCode\n",
      "Skewness: 0.0\n",
      "Kurtosis: 0.0\n",
      "Amount\n",
      "Skewness: 51.098489522819115\n",
      "Kurtosis: 3363.1277386950474\n",
      "Value\n",
      "Skewness: 51.29108598736249\n",
      "Kurtosis: 3378.069273754232\n",
      "PricingStrategy\n",
      "Skewness: 1.6590573072757961\n",
      "Kurtosis: 2.087533632908269\n",
      "FraudResult\n",
      "Skewness: 22.196294806589147\n",
      "Kurtosis: 490.6857618799325\n"
     ]
    },
    {
     "data": {
      "text/plain": [
       "{'CountryCode': {'Skewness': 0.0, 'Kurtosis': 0.0},\n",
       " 'Amount': {'Skewness': 51.098489522819115, 'Kurtosis': 3363.1277386950474},\n",
       " 'Value': {'Skewness': 51.29108598736249, 'Kurtosis': 3378.069273754232},\n",
       " 'PricingStrategy': {'Skewness': 1.6590573072757961,\n",
       "  'Kurtosis': 2.087533632908269},\n",
       " 'FraudResult': {'Skewness': 22.196294806589147,\n",
       "  'Kurtosis': 490.6857618799325}}"
      ]
     },
     "execution_count": 11,
     "metadata": {},
     "output_type": "execute_result"
    }
   ],
   "source": [
    "\n",
    "from scripts.data_cleaning import display_skewness\n",
    "display_skewness(data)"
   ]
  },
  {
   "cell_type": "markdown",
   "metadata": {},
   "source": [
    "> ### Amount, Value and Fraud Result columns have high skew value"
   ]
  },
  {
   "cell_type": "code",
   "execution_count": 12,
   "metadata": {},
   "outputs": [
    {
     "name": "stdout",
     "output_type": "stream",
     "text": [
      "95469\n",
      "193\n"
     ]
    }
   ],
   "source": [
    "print(data[data['FraudResult']==0].shape[0])\n",
    "print(data[data['FraudResult']==1].shape[0])"
   ]
  },
  {
   "cell_type": "code",
   "execution_count": 13,
   "metadata": {},
   "outputs": [
    {
     "data": {
      "image/png": "[encoded data removed]",
      "text/plain": [
       "<Figure size 1200x500 with 2 Axes>"
      ]
     },
     "metadata": {},
     "output_type": "display_data"
    }
   ],
   "source": [
    "from scripts.visualize import plot_fraud_result\n",
    "plot_fraud_result(data)"
   ]
  },
  {
   "cell_type": "code",
   "execution_count": 14,
   "metadata": {},
   "outputs": [
    {
     "data": {
      "image/png": "[encoded data removed]",
      "text/plain": [
       "<Figure size 1200x800 with 2 Axes>"
      ]
     },
     "metadata": {},
     "output_type": "display_data"
    }
   ],
   "source": [
    "from scripts.visualize import plot_product_category\n",
    "plot_product_category(data)"
   ]
  },
  {
   "cell_type": "markdown",
   "metadata": {},
   "source": [
    "> ## Visualize the distribution of numerical features\n"
   ]
  },
  {
   "cell_type": "code",
   "execution_count": null,
   "metadata": {},
   "outputs": [],
   "source": []
  },
  {
   "cell_type": "code",
   "execution_count": 15,
   "metadata": {},
   "outputs": [],
   "source": [
    "# from scripts.visualize import visualize_numerical_features\n",
    "# visualize_numerical_features(data)"
   ]
  },
  {
   "cell_type": "markdown",
   "metadata": {},
   "source": [
    "> ## Distribution of Categorical Features"
   ]
  },
  {
   "cell_type": "markdown",
   "metadata": {},
   "source": [
    "> ### Analyzing the distribution of categorical features provides insights into the frequency and variability of categories.\n"
   ]
  },
  {
   "cell_type": "code",
   "execution_count": 16,
   "metadata": {},
   "outputs": [],
   "source": [
    "# # Identify categorical features\n",
    "# categorical_columns = data.select_dtypes(include=['object', 'category']).columns\n",
    "# print(categorical_columns)"
   ]
  },
  {
   "cell_type": "markdown",
   "metadata": {},
   "source": [
    "Distribution of many values column"
   ]
  },
  {
   "cell_type": "code",
   "execution_count": 17,
   "metadata": {},
   "outputs": [],
   "source": [
    "# print(data['AccountId'].value_counts())\n"
   ]
  },
  {
   "cell_type": "code",
   "execution_count": 18,
   "metadata": {},
   "outputs": [],
   "source": [
    "# from scripts.visualize import visualize_categorical_features\n",
    "# data1 = data[[ 'CurrencyCode', 'CountryCode', 'ProviderId',\n",
    "#        'ProductCategory', 'ChannelId', 'Amount', 'Value',\n",
    "#        'PricingStrategy', 'FraudResult']]\n",
    "# visualize_categorical_features(data1)"
   ]
  },
  {
   "cell_type": "code",
   "execution_count": 19,
   "metadata": {},
   "outputs": [],
   "source": [
    "# numerical_cols = data.select_dtypes(include=['number']).columns\n",
    "# data[numerical_cols]"
   ]
  },
  {
   "cell_type": "markdown",
   "metadata": {},
   "source": [
    "> ## Correlation Analysis"
   ]
  },
  {
   "cell_type": "markdown",
   "metadata": {},
   "source": [
    "> ### To Understanding the relationship between numerical features.\n"
   ]
  },
  {
   "cell_type": "code",
   "execution_count": 20,
   "metadata": {},
   "outputs": [],
   "source": [
    "# from scripts.visualize import correlation_analysis\n",
    "# correlation_analysis(data)"
   ]
  },
  {
   "cell_type": "markdown",
   "metadata": {},
   "source": [
    "> ## Identifying Missing Values"
   ]
  },
  {
   "cell_type": "markdown",
   "metadata": {},
   "source": [
    "> ### Identify missing values to determine missing data and decide on appropriate imputation strategies."
   ]
  },
  {
   "cell_type": "code",
   "execution_count": 21,
   "metadata": {},
   "outputs": [],
   "source": [
    "# from scripts.data_cleaning import find_missing_values\n",
    "# find_missing_values(data)"
   ]
  },
  {
   "cell_type": "markdown",
   "metadata": {},
   "source": [
    "> ### The Datasets have no missing values"
   ]
  },
  {
   "cell_type": "markdown",
   "metadata": {},
   "source": [
    "> ## Outlier Detection"
   ]
  },
  {
   "cell_type": "markdown",
   "metadata": {},
   "source": [
    "> ### Using box plots to identify outliers."
   ]
  },
  {
   "cell_type": "markdown",
   "metadata": {},
   "source": []
  },
  {
   "cell_type": "code",
   "execution_count": 22,
   "metadata": {},
   "outputs": [],
   "source": [
    "# from scripts.data_cleaning import boxPlotForDetectOutliers\n",
    "# boxPlotForDetectOutliers(data,['Amount','Value'])"
   ]
  },
  {
   "cell_type": "markdown",
   "metadata": {},
   "source": [
    "> ### From Numerical Columns Amount and Value have Outliers"
   ]
  },
  {
   "cell_type": "markdown",
   "metadata": {},
   "source": [
    "> ## Remove outliers"
   ]
  },
  {
   "cell_type": "code",
   "execution_count": 23,
   "metadata": {},
   "outputs": [],
   "source": [
    "# from scripts.data_cleaning import remove_outliers_winsorization\n",
    "# data=remove_outliers_winsorization(data, ['Amount','Value'])"
   ]
  },
  {
   "cell_type": "code",
   "execution_count": 24,
   "metadata": {},
   "outputs": [],
   "source": [
    "# data.head()\n"
   ]
  },
  {
   "cell_type": "code",
   "execution_count": 25,
   "metadata": {},
   "outputs": [],
   "source": [
    "# boxPlotForDetectOutliers(data,['Amount','Value'])"
   ]
  },
  {
   "cell_type": "markdown",
   "metadata": {},
   "source": [
    "> # Feature Engineering"
   ]
  },
  {
   "cell_type": "markdown",
   "metadata": {},
   "source": [
    "> ## Create Aggregate Features"
   ]
  },
  {
   "cell_type": "code",
   "execution_count": 26,
   "metadata": {},
   "outputs": [],
   "source": [
    "# data.head()\n"
   ]
  },
  {
   "cell_type": "code",
   "execution_count": 27,
   "metadata": {},
   "outputs": [],
   "source": [
    "# data.shape"
   ]
  },
  {
   "cell_type": "code",
   "execution_count": 28,
   "metadata": {},
   "outputs": [],
   "source": [
    "# from scripts.feature_engineering import aggregate_features\n",
    "# data['CustomerId'] = data['CustomerId'].astype(str)\n",
    "\n",
    "# aggregated = aggregate_features(data, 'CustomerId')\n",
    "\n",
    "# aggregated['CustomerId'] = aggregated['CustomerId'].astype(str)\n",
    "\n",
    "# data = pd.merge(data, aggregated, on='CustomerId', how='left')\n",
    "\n",
    "# nan_average = data[data['Average_Transaction_Amount'].isna()].head()\n",
    "# print(nan_average)"
   ]
  },
  {
   "cell_type": "code",
   "execution_count": 29,
   "metadata": {},
   "outputs": [],
   "source": [
    "# data.describe()"
   ]
  },
  {
   "cell_type": "markdown",
   "metadata": {},
   "source": [
    "> ## Extract Date and Time Features"
   ]
  },
  {
   "cell_type": "code",
   "execution_count": 30,
   "metadata": {},
   "outputs": [],
   "source": [
    "# from scripts.feature_engineering import time_correction\n",
    "# time_correction(data)\n",
    "# data[['TransactionStartTime', 'Transaction_Hour', 'Transaction_Day', 'Transaction_Month', 'Transaction_Year']].head()"
   ]
  },
  {
   "cell_type": "code",
   "execution_count": 31,
   "metadata": {},
   "outputs": [],
   "source": [
    "\n",
    "# def time_correction(data):\n",
    "#     data['TransactionStartTime'] = pd.to_datetime(data['TransactionStartTime'])\n",
    "\n",
    "#     # Extract features from the TransactionStartTime\n",
    "#     data['Transaction_Hour'] = data['TransactionStartTime'].dt.hour\n",
    "#     data['Transaction_Day'] = data['TransactionStartTime'].dt.day\n",
    "#     data['Transaction_Month'] = data['TransactionStartTime'].dt.month\n",
    "#     data['Transaction_Year'] = data['TransactionStartTime'].dt.year\n",
    "#     return data"
   ]
  },
  {
   "cell_type": "markdown",
   "metadata": {},
   "source": [
    "> ## Encoding Categorical Variables"
   ]
  },
  {
   "cell_type": "markdown",
   "metadata": {},
   "source": [
    "> #### using One-Hot Encoding for categorical features"
   ]
  },
  {
   "cell_type": "code",
   "execution_count": 32,
   "metadata": {},
   "outputs": [],
   "source": [
    "# from scripts.feature_engineering import one_hot_encoder\n",
    "# data = one_hot_encoder(data)"
   ]
  },
  {
   "cell_type": "code",
   "execution_count": 33,
   "metadata": {},
   "outputs": [],
   "source": [
    "# pd.set_option('display.max_columns',None)\n",
    "# data.head()"
   ]
  },
  {
   "cell_type": "markdown",
   "metadata": {},
   "source": [
    "> ## Handling Missing Values"
   ]
  },
  {
   "cell_type": "markdown",
   "metadata": {},
   "source": [
    "> ### The given datasets have no any missing values"
   ]
  },
  {
   "cell_type": "code",
   "execution_count": 34,
   "metadata": {},
   "outputs": [],
   "source": [
    "# from scripts.feature_engineering import null_value_imputing_KNN\n",
    "# print(data.isnull().sum())\n",
    "\n",
    "# data[data.select_dtypes(include=[np.number]).columns] = null_value_imputing_KNN(data)"
   ]
  },
  {
   "cell_type": "code",
   "execution_count": 35,
   "metadata": {},
   "outputs": [],
   "source": [
    "# numerical_columns = data.select_dtypes(include=['float64', 'int64']).columns"
   ]
  },
  {
   "cell_type": "code",
   "execution_count": 36,
   "metadata": {},
   "outputs": [],
   "source": [
    "# numerical_columns"
   ]
  },
  {
   "cell_type": "code",
   "execution_count": 37,
   "metadata": {},
   "outputs": [],
   "source": [
    "# data.describe()"
   ]
  },
  {
   "cell_type": "code",
   "execution_count": 38,
   "metadata": {},
   "outputs": [],
   "source": [
    "# data.head(10)"
   ]
  },
  {
   "cell_type": "code",
   "execution_count": 39,
   "metadata": {},
   "outputs": [],
   "source": [
    "# # Display the standardized DataFrame\n",
    "# from scripts.feature_engineering import Standardize\n",
    "# print(\"Standardized DataFrame:\")\n",
    "# Standardize(data,numerical_columns).head()"
   ]
  },
  {
   "cell_type": "markdown",
   "metadata": {},
   "source": [
    "# Default estimator and WoE binning "
   ]
  },
  {
   "cell_type": "code",
   "execution_count": 40,
   "metadata": {},
   "outputs": [],
   "source": [
    "# import pandas as pd\n",
    "# # Assuming df is your original DataFrame with all transactions\n",
    "# from scripts.feature_engineering import combine_rfms\n",
    "# from scripts.feature_engineering import classify_customers_by_rfms\n",
    "\n",
    "# rfms_scores = combine_rfms(data, 'CustomerId')\n",
    "# rfms_classification = classify_customers_by_rfms(rfms_scores)\n",
    "\n",
    "# rfms_classification.head()"
   ]
  },
  {
   "cell_type": "markdown",
   "metadata": {},
   "source": [
    ">> ## Woe binning"
   ]
  },
  {
   "cell_type": "code",
   "execution_count": 41,
   "metadata": {},
   "outputs": [],
   "source": [
    "# data = pd.merge(data, rfms_classification, on='CustomerId', how='left')\n",
    "# data.head()"
   ]
  },
  {
   "cell_type": "code",
   "execution_count": 42,
   "metadata": {},
   "outputs": [],
   "source": [
    "# data['TotalRFMS'] = data['Recency'].astype(int) + data['Frequency'].astype(int) + data['Monetary'].astype(int) + data['Seasonality'].astype(int)\n"
   ]
  },
  {
   "cell_type": "code",
   "execution_count": 43,
   "metadata": {},
   "outputs": [],
   "source": [
    "# print(data[['CustomerId', 'Recency', 'Frequency', 'Monetary','Seasonality', 'TotalRFMS']].head())\n",
    "# pd.set_option('display.float_format', '{:.2f}'.format)\n",
    "# data.describe()"
   ]
  },
  {
   "cell_type": "code",
   "execution_count": 44,
   "metadata": {},
   "outputs": [],
   "source": [
    "# from scripts.feature_engineering import calculate_risk_category\n",
    "# calculate_risk_category(data)"
   ]
  },
  {
   "cell_type": "code",
   "execution_count": 45,
   "metadata": {},
   "outputs": [],
   "source": [
    "# print(data['RiskCategory'].unique())\n",
    "# print(data['TotalRFMS'].describe())\n",
    "# data.head(20)"
   ]
  },
  {
   "cell_type": "code",
   "execution_count": 46,
   "metadata": {},
   "outputs": [],
   "source": [
    "# from scripts.feature_engineering import calculate_woe\n",
    "# woe_df = calculate_woe(data)"
   ]
  },
  {
   "cell_type": "code",
   "execution_count": 47,
   "metadata": {},
   "outputs": [],
   "source": [
    "# total_bad = woe_df['Bad'].sum()\n",
    "# total_good = woe_df['Good'].sum()\n",
    "\n",
    "# print(f\"Total Bad: {total_bad}, Total Good: {total_good}\")"
   ]
  },
  {
   "cell_type": "code",
   "execution_count": 48,
   "metadata": {},
   "outputs": [],
   "source": [
    "# Check for rows where either Good or (Bad is zero)\n",
    "# print(woe_df[(woe_df['Good'] == 1) | (woe_df['Bad'] == 0)])"
   ]
  },
  {
   "cell_type": "code",
   "execution_count": 49,
   "metadata": {},
   "outputs": [],
   "source": [
    "# # Apply WoE transformation to RFMS features\n",
    "# from scripts.feature_engineering import calculate_woe_option\n",
    "# for feature in ['Recency', 'Frequency', 'Monetary', 'Seasonality']:\n",
    "#     woe_table = calculate_woe_option(data, feature, 'RiskCategory')\n",
    "#     # Map WoE values back to the original data\n",
    "#     data[feature + '_WoE'] = data[feature].map(dict(zip(woe_table[feature], woe_table['WoE'])))"
   ]
  },
  {
   "cell_type": "code",
   "execution_count": 50,
   "metadata": {},
   "outputs": [],
   "source": [
    "# data.columns"
   ]
  },
  {
   "cell_type": "code",
   "execution_count": 51,
   "metadata": {},
   "outputs": [],
   "source": [
    "# from scripts.credit_risk_analysis import prepare_for_model\n",
    "# X_train, X_test, y_train, y_test,X,y = prepare_for_model(data)"
   ]
  },
  {
   "cell_type": "code",
   "execution_count": 52,
   "metadata": {},
   "outputs": [],
   "source": [
    "# data.describe()"
   ]
  },
  {
   "cell_type": "markdown",
   "metadata": {},
   "source": [
    "## Model Evaluation"
   ]
  },
  {
   "cell_type": "code",
   "execution_count": 53,
   "metadata": {},
   "outputs": [],
   "source": [
    "# # Initialize dictionaries to store model performance\n",
    "# from scripts.credit_risk_analysis import modeling\n",
    "# results = {}\n",
    "\n",
    "# results, log_preds, dt_preds, gb_preds, rf_preds = modeling(X_train, X_test, y_train, y_test,results)\n"
   ]
  },
  {
   "cell_type": "code",
   "execution_count": 54,
   "metadata": {},
   "outputs": [],
   "source": [
    "# print(results)"
   ]
  },
  {
   "cell_type": "code",
   "execution_count": 55,
   "metadata": {},
   "outputs": [],
   "source": [
    "# import pandas as pd\n",
    "\n",
    "# # Create a table from the results dictionary\n",
    "# results_table = []\n",
    "\n",
    "# for model_name, metrics in results.items():\n",
    "#     results_table.append({\n",
    "#         'Model': model_name,\n",
    "#         'Accuracy': metrics['Accuracy'],\n",
    "#         'ROC AUC': metrics['ROC AUC'],\n",
    "#         'Precision (0)': metrics['Classification Report'].split()[15],\n",
    "#         'Recall (0)': metrics['Classification Report'].split()[16],\n",
    "#         'F1-Score (0)': metrics['Classification Report'].split()[17],\n",
    "#     })\n",
    "\n",
    "# results_df = pd.DataFrame(results_table)\n",
    "\n",
    "# # Print the table\n",
    "# print(results_df)\n"
   ]
  },
  {
   "cell_type": "markdown",
   "metadata": {},
   "source": [
    "## Hyperparameter Tunning"
   ]
  },
  {
   "cell_type": "code",
   "execution_count": 56,
   "metadata": {},
   "outputs": [],
   "source": [
    "# from scripts.credit_risk_analysis import tune_models\n",
    "# results_now = tune_models(X_train, y_train, X_test, y_test, search_method='random', n_iter=10)\n",
    "\n",
    "# # Access results for each model\n",
    "# for model_name, model_results in results_now.items():\n",
    "#     print(f\"Results for {model_name}:\")\n",
    "#     print(f\"Best Parameters: {model_results['best_params']}\")\n",
    "#     print(f\"Best Score: {model_results['best_score']}\")\n",
    "#     print(f\"Classification Report:\\n{model_results['classification_report']}\")\n"
   ]
  },
  {
   "cell_type": "markdown",
   "metadata": {},
   "source": [
    ">> ## Saving model with the best parameters"
   ]
  },
  {
   "cell_type": "code",
   "execution_count": 57,
   "metadata": {},
   "outputs": [],
   "source": [
    "# import joblib\n",
    "# import os\n",
    "\n",
    "# model_dir = \"../models\"\n",
    "# os.makedirs(model_dir, exist_ok=True)  # Create the directory if it doesn't exist\n"
   ]
  },
  {
   "cell_type": "code",
   "execution_count": 58,
   "metadata": {},
   "outputs": [],
   "source": [
    "# from scripts.credit_risk_analysis import save_best_model\n",
    "# gb_preds = save_best_model(results, X_train, y_train, X_test, y_test)\n"
   ]
  },
  {
   "cell_type": "code",
   "execution_count": 59,
   "metadata": {},
   "outputs": [],
   "source": [
    "# data['Combined_WoE'] = data[['Recency_WoE', 'Frequency_WoE', 'Monetary_WoE', 'Seasonality_WoE']].sum(axis=1)"
   ]
  },
  {
   "cell_type": "code",
   "execution_count": 60,
   "metadata": {},
   "outputs": [],
   "source": [
    "# data[data['Combined_WoE']>0].sample(2)"
   ]
  },
  {
   "cell_type": "code",
   "execution_count": 61,
   "metadata": {},
   "outputs": [],
   "source": [
    "# data['totalRFMS'] = data['Recency'] + data['Frequency'] + data['Monetary'] + data['Seasonality']"
   ]
  },
  {
   "cell_type": "code",
   "execution_count": 62,
   "metadata": {},
   "outputs": [],
   "source": [
    "# # Analyze the distribution of risk scores\n",
    "# from scripts.visualize import plot_risk_scores\n",
    "# plot_risk_scores(data)\n",
    "\n",
    "# threshold = 2 "
   ]
  },
  {
   "cell_type": "code",
   "execution_count": 63,
   "metadata": {},
   "outputs": [],
   "source": [
    "# # Classify users based on the risk score\n",
    "# data['RiskCategory'] = ['Good' if score > threshold else 'Bad' for score in data['RiskScore']]\n",
    "\n",
    "# # Display the classification results\n",
    "# print(data[['CustomerId', 'RiskScore', 'RiskCategory']].head())"
   ]
  },
  {
   "cell_type": "code",
   "execution_count": 64,
   "metadata": {},
   "outputs": [],
   "source": [
    "# # Count the number of good and bad customers\n",
    "# from scripts.visualize import plot_risk_counts\n",
    "# risk_counts = data['RiskCategory'].value_counts()\n",
    "\n",
    "# plot_risk_counts(risk_counts)"
   ]
  }
 ],
 "metadata": {
  "kernelspec": {
   "display_name": ".week6",
   "language": "python",
   "name": "python3"
  },
  "language_info": {
   "codemirror_mode": {
    "name": "ipython",
    "version": 3
   },
   "file_extension": ".py",
   "mimetype": "text/x-python",
   "name": "python",
   "nbconvert_exporter": "python",
   "pygments_lexer": "ipython3",
   "version": "3.11.2"
  }
 },
 "nbformat": 4,
 "nbformat_minor": 2
}
